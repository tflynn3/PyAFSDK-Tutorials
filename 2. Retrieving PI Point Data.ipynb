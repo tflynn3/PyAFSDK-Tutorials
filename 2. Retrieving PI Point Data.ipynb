{
 "cells": [
  {
   "cell_type": "markdown",
   "metadata": {},
   "source": [
    "<h1 align=\"Center\">Retrieving PI Point Data</h1>\n",
    "In this notebook, we will explore the various ways to retrieve PI Point data using python and the AF SDK. "
   ]
  },
  {
   "cell_type": "markdown",
   "metadata": {},
   "source": [
    "<hr>\n",
    "We will start off by loading in the AF SDK. Check out the previous notebook \"1. Starting with AF SDK and Python\" if you dont understand what this code does!"
   ]
  },
  {
   "cell_type": "code",
   "execution_count": 3,
   "metadata": {},
   "outputs": [
    {
     "name": "stdout",
     "output_type": "stream",
     "text": [
      "<module 'OSIsoft.AF'>\n"
     ]
    }
   ],
   "source": [
    "# pythonnet is imported as \"clr\"\n",
    "# this package allows you to import dotNet DLL's and run them within your python environment\n",
    "import clr\n",
    "import os\n",
    "import sys\n",
    "\n",
    "# Get the installation directory from the environment variable or fall back to the Windows\n",
    "# default installation path\n",
    "PIAF_SDK = os.getenv('PIHOME', 'C:\\\\Program Files\\\\PIPC')\n",
    "PIAF_SDK += '\\\\AF\\\\PublicAssemblies\\\\4.0\\\\'\n",
    "\n",
    "# check if the AF SDK default directories exist\n",
    "if not os.path.isdir(PIAF_SDK):\n",
    "    raise ImportError('PIAF SDK not found in {}, check installation'.format(PIAF_SDK))\n",
    "    \n",
    "# append them to the PATH environment variable\n",
    "sys.path.append(PIAF_SDK)\n",
    "\n",
    "# add the AF SDK DLL \n",
    "clr.AddReference('OSIsoft.AFSDK')\n",
    "\n",
    "# import the AF SDK\n",
    "from OSIsoft import AF\n",
    "\n",
    "print(AF)"
   ]
  },
  {
   "cell_type": "code",
   "execution_count": 4,
   "metadata": {},
   "outputs": [
    {
     "name": "stdout",
     "output_type": "stream",
     "text": [
      "Found SINUSOID on data archive DSF-PIDA1\n"
     ]
    }
   ],
   "source": [
    "# get first item in GetPIServers object\n",
    "piserver = AF.PI.PIServers.GetPIServers()[0]\n",
    "\n",
    "# search for pi point on the pi data archive\n",
    "pipoint = AF.PI.PIPoint.FindPIPoint(piserver, \"sinusoid\")\n",
    "\n",
    "print(\"Found {} on data archive {}\".format(pipoint.Name, piserver.Name))"
   ]
  },
  {
   "cell_type": "markdown",
   "metadata": {},
   "source": [
    "<h3>PI Point Attributes</h3>\n",
    "Let examine some properties of the PIPoint object."
   ]
  },
  {
   "cell_type": "code",
   "execution_count": null,
   "metadata": {},
   "outputs": [],
   "source": [
    "# print immutable properties\n",
    "print(pipoint.ID)\n",
    "print(pipoint.PointClass)\n",
    "print(pipoint.PointType)\n",
    "print(pipoint.Server)\n",
    "print(pipoint.Step)"
   ]
  },
  {
   "cell_type": "markdown",
   "metadata": {},
   "source": [
    "You will notice there are many \"properties\" missing *(e.g. PointSource, InsturmentTag, Location1, Location2, ...)*. The PIPoint object actually does not consider those properties, but instead, <em><b>attributes</b></em>. The PIPoint Attributes list can be found using the <b>FindAttributeNames</b> method."
   ]
  },
  {
   "cell_type": "code",
   "execution_count": null,
   "metadata": {},
   "outputs": [],
   "source": [
    "pipoint.FindAttributeNames(\"*\")"
   ]
  },
  {
   "cell_type": "markdown",
   "metadata": {},
   "source": [
    "<hr>\n",
    "<h3>Retrieving PIPoint Values</h3>"
   ]
  },
  {
   "cell_type": "code",
   "execution_count": 38,
   "metadata": {
    "scrolled": true
   },
   "outputs": [
    {
     "ename": "TypeError",
     "evalue": "No method matches given arguments for InterpolatedValue",
     "output_type": "error",
     "traceback": [
      "\u001b[1;31m---------------------------------------------------------------------------\u001b[0m",
      "\u001b[1;31mTypeError\u001b[0m                                 Traceback (most recent call last)",
      "\u001b[1;32m<ipython-input-38-5cf4678b3c35>\u001b[0m in \u001b[0;36m<module>\u001b[1;34m\u001b[0m\n\u001b[1;32m----> 1\u001b[1;33m \u001b[0minterpolated_value\u001b[0m \u001b[1;33m=\u001b[0m \u001b[0mpipoint\u001b[0m\u001b[1;33m.\u001b[0m\u001b[0mInterpolatedValue\u001b[0m\u001b[1;33m(\u001b[0m\u001b[1;34m'*-1h'\u001b[0m\u001b[1;33m)\u001b[0m\u001b[1;33m\u001b[0m\u001b[1;33m\u001b[0m\u001b[0m\n\u001b[0m",
      "\u001b[1;31mTypeError\u001b[0m: No method matches given arguments for InterpolatedValue"
     ]
    }
   ],
   "source": [
    "interpolated_value = pipoint.InterpolatedValue('*-1h')"
   ]
  },
  {
   "cell_type": "markdown",
   "metadata": {},
   "source": [
    "Hmmm that didn't seem to work... This sh\\*t is broken! Let's take a breath and read the error message.\n",
    "<blockquote><font color=\"maroon\"><b>TypeError</b></font>: No method matches given arguments for InterpolatedValue</blockquote>\n",
    "The TypeError specifies that we have an incorrect object Type somewhere.. and the error message tells us exactly where. The <a href=\"https://techsupport.osisoft.com/Documentation/PI-AF-SDK/html/M_OSIsoft_AF_PI_PIPoint_InterpolatedValue.htm\">InterpolatedValue</a> method does not have a parameter set that matches a String object as input.\n",
    "<img src=\"./img/interpolated_value.png\" />\n",
    "<hr>\n",
    "Looking at the documentation, it specifies the input object must be an AFTime object. Even more, it provides the namespace of the object <em>AF.Time.AFTime</em>. Let's try casting our time string into an AFTime object."
   ]
  },
  {
   "cell_type": "markdown",
   "metadata": {},
   "source": [
    "<hr>\n",
    "<h3>PIPoint.InterpolatedValue Method</a>"
   ]
  },
  {
   "cell_type": "code",
   "execution_count": 39,
   "metadata": {},
   "outputs": [
    {
     "name": "stdout",
     "output_type": "stream",
     "text": [
      "78.97469\n"
     ]
    }
   ],
   "source": [
    "interpolated_value = pipoint.InterpolatedValue(AF.Time.AFTime('*-1h'))\n",
    "print(interpolated_value)"
   ]
  },
  {
   "cell_type": "markdown",
   "metadata": {},
   "source": [
    "Success! Let's take a look at the returned <em>interpolated_value</em> variable."
   ]
  },
  {
   "cell_type": "code",
   "execution_count": 8,
   "metadata": {},
   "outputs": [
    {
     "data": {
      "text/plain": [
       "OSIsoft.AF.Asset.AFValue"
      ]
     },
     "execution_count": 8,
     "metadata": {},
     "output_type": "execute_result"
    }
   ],
   "source": [
    "type(interpolated_value)"
   ]
  },
  {
   "cell_type": "markdown",
   "metadata": {},
   "source": [
    "Interestingly, it is not a float or string data type, but actually an AFValue object!\n",
    "<hr>\n",
    "Let's investigate what type of properties this object has within python. As always, a list of all the properties can be found in the AF SDK documentation for <a href=\"https://techsupport.osisoft.com/Documentation/PI-AF-SDK/Html/T_OSIsoft_AF_Asset_AFValue.htm\">AFValue</a>."
   ]
  },
  {
   "cell_type": "code",
   "execution_count": 17,
   "metadata": {},
   "outputs": [
    {
     "name": "stdout",
     "output_type": "stream",
     "text": [
      "5/5/2020 3:54:51 PM\n",
      "None\n",
      "True\n",
      "None\n",
      "92.63043\n",
      "System.Single\n"
     ]
    }
   ],
   "source": [
    "print(interpolated_value.Timestamp)\n",
    "print(interpolated_value.Attribute)\n",
    "print(interpolated_value.IsGood)\n",
    "print(interpolated_value.UOM)\n",
    "print(interpolated_value.Value)\n",
    "print(interpolated_value.ValueType)"
   ]
  },
  {
   "cell_type": "markdown",
   "metadata": {},
   "source": [
    "<hr>\n",
    "<h3>PIPoint.RecordedValue Method</h3>\n",
    "Let's try a different method to retrieve PI data, the <a href=\"https://techsupport.osisoft.com/Documentation/PI-AF-SDK/html/M_OSIsoft_AF_PI_PIPoint_RecordedValue.htm\">RecordedValue</a> method. This method will return *only* recorded values."
   ]
  },
  {
   "cell_type": "code",
   "execution_count": 7,
   "metadata": {},
   "outputs": [
    {
     "name": "stdout",
     "output_type": "stream",
     "text": [
      "Timestamp: 5/5/2020 3:55:13 PM | Value: 92.5471\n"
     ]
    }
   ],
   "source": [
    "recorded_value = pipoint.RecordedValue(AF.Time.AFTime('*-1h'))\n",
    "print(\"Timestamp: {} | Value: {}\".format(recorded_value.Timestamp, recorded_value.Value))"
   ]
  },
  {
   "cell_type": "markdown",
   "metadata": {},
   "source": [
    "Notice that both of the above methods return only a *single* value. What if we want to return many values of a PI Point?\n",
    "To do this, we will use the InterpolatedValues, RecordedValues, and PlotValues methods.\n",
    "<hr>\n",
    "<h3>PIPoint.InterpolatedValues Method</h3>"
   ]
  },
  {
   "cell_type": "code",
   "execution_count": null,
   "metadata": {},
   "outputs": [],
   "source": [
    "interpolated_values = pipoint.InterpolatedValues(\n",
    "    AF.Time.AFTimeRange('*-1h','*'), AF.Time.AFTimeSpan(0, 0, 0, 0.0, 5.0), '', True)\n",
    "print([val.Value for val in interpolated_values])"
   ]
  },
  {
   "cell_type": "markdown",
   "metadata": {},
   "source": [
    "<hr>\n",
    "<h3>PIPoint.RecordedValues Method</h3>\n",
    "The RecordedValues method requires five parameters, described below in C# code. We must instantiate objects of each type to execute the method.\n",
    "<blockquote><font color=\"blue\">public</font> AFValues RecordedValues(<br>\n",
    "    &emsp;&emsp;AFTimeRange <em>timeRange</em>,<br>\n",
    "\t&emsp;&emsp;AFBoundaryType <em>boundaryType</em>,<br>\n",
    "\t&emsp;&emsp;string <em>filterExpression</em>,<br>\n",
    "\t&emsp;&emsp;bool <em>includeFilteredValues</em>,<br>\n",
    "\t&emsp;&emsp;int <em>maxCount</em> = 0<br>\n",
    ")<br></blockquote>\n",
    "\n"
   ]
  },
  {
   "cell_type": "code",
   "execution_count": 40,
   "metadata": {},
   "outputs": [
    {
     "name": "stdout",
     "output_type": "stream",
     "text": [
      "[13.63163, 2.018039]\n"
     ]
    }
   ],
   "source": [
    "recorded_values = pipoint.RecordedValues(\n",
    "    AF.Time.AFTimeRange('*-1h','*'), 0, '', True, 100)\n",
    "print([val.Value for val in recorded_values])"
   ]
  },
  {
   "cell_type": "code",
   "execution_count": 1,
   "metadata": {},
   "outputs": [
    {
     "data": {
      "text/html": [
       "<style> /* General styles */ body { font-family: 'Segoe UI' , 'Lucida Grande' , Verdana, Arial, Helvetica, sans-serif; font-size: 15px; padding: 0; margin: 0; margin-left: auto; margin-right: auto; color: #000; } h1 { font-family: 'Segoe UI' , 'Lucida Grande' , Verdana, Arial, Helvetica, sans-serif; font-size: 2.5em; font-weight: normal; margin-top: 0; color: #000; } h2, h3 { font-family: 'Segoe UI Semibold' , 'Segoe UI' , 'Lucida Grande' , Verdana, Arial, Helvetica, sans-serif; font-weight: normal; margin: 0; padding-bottom: 5px; padding-top: 5px; color: #000; } h2 { font-size: 1.769em; } h3 { font-size: 1.231em; } h4, .subHeading { font-family: 'Segoe UI Semibold' , 'Segoe UI' , 'Lucida Grande' , Verdana, Arial, Helvetica, sans-serif; font-size: 1.077em; font-weight: normal; margin: 0; color: #000; } .subHeading { margin-top: 5px; } h5, h6 { font-family: 'Segoe UI Semibold' , 'Segoe UI' , 'Lucida Grande' , Verdana, Arial, Helvetica, sans-serif; font-size: 1em; font-weight: normal; line-height: 130%; margin: 0; color: #000; } a, a:link { text-decoration: none; color: #1364c4; } a:visited, a:active { text-decoration: none; color: #03697a; } a:hover { text-decoration: none; color: #3390b1; } a.button, a.button:active, a.button:hover { float: right; background-color: #0080c0; color: white; padding: 6px 12px; font-size: 14px; border: 1px solid transparent; border-radius: 4px; margin-left: 6px; } a.button:link, a.button:visited { color: white; } img { border: 0; } p { margin-top: 0; margin-bottom: 0; padding-bottom: 15px; line-height: 18px; } q { font-style: italic; } blockquote { margin-top: 0px; } table { border-collapse: collapse; padding: 0; margin-bottom: 15px; font-size: 15px; width: 100%; } td, th { border-bottom: 1px solid #dbdbdb; margin: 10px; padding-top: 10px; padding-bottom: 10px; padding-right: 8px; padding-left: 8px; } th { background-color: #ededed; color: #636363; text-align: left; padding-top: 5px; padding-bottom: 5px; } td { color: #2a2a2a; vertical-align: top; } table p:last-child { padding-bottom: 0; } table.members { width: 100%; } table.members td { min-width: 72px; } table.members img { padding-right: 5px; } div.alert img { padding-right: 5px; } ol { margin-top: 0px; margin-bottom: 10px; } ol ol { list-style-type: lower-alpha; } ol ol ol { list-style-type: lower-roman; } ul { margin-top: 0px; margin-bottom: 10px; } .noBullet { list-style-type: none; padding-left: 20px; } ul ul { list-style-type: circle; } ul ul ul { list-style-type: square; } dt { font-weight: 600; } pre { font-family: Consolas, Courier, monospace; overflow: hidden; } .pageHeader { font-family: 'Segoe UI' , Tahoma, Helvetica, Sans-Serif; background-color: #333333; color: #d0d0d0; padding: 5px 10px; vertical-align: middle; height: 25px; } .pageBody { padding: 0px; } .topicContent { padding: 10px 10px 15px 10px; overflow: visible; border-left: 1px solid #bbb; } .pageFooter { clear: both; border-top: solid 1px #bbb; padding: 10px; } .feedbackLink { } .iconColumn { width: 100px; } .seeAlsoStyle { } table.titleTable td { padding-top: 0px; border-width: 0px; } td.titleColumn { margin-top: 0px; padding-left: 0px; vertical-align: middle; } td.logoColumn { padding-left: 0px; padding-right: 10px; vertical-align: middle; width: 1px; } td.logoColumnAbove { padding: 0px 10px 0px 0px; vertical-align: middle; } span.selflink { color: #000066; } div.preliminary { margin-top: 1em; margin-bottom: 1em; font-weight: bold; color: #333333; } div.caption { font-weight: bold; font-size: 1em; /*12pt*/ color: #003399; padding-top: 5px; padding-bottom: 5px; } .procedureSubHeading { font-size: 1.1em; /*13.5pt*/ font-weight: bold; } .summary { } /* Collapsible region styles */ .collapsibleAreaRegion { margin-top: 15px; margin-bottom: 15px; } .collapseToggle { padding-right: 5px; } .collapsibleRegionTitle { font-family: 'Segoe UI Semibold' , 'Segoe UI' , 'Lucida Grande' , Verdana, Arial, Helvetica, sans-serif !important; font-style: normal !important; font-size: 1.769em; margin-top: 9px; margin-bottom: 19px; padding-top: 20px; padding-bottom: 5px; cursor: pointer; } .collapsibleSection { padding: 0 0 0 20px; } /* Syntax and code snippet styles */ .codeSnippetContainer { min-width: 260px; margin-top: 10px; } .codeSnippetContainerTabs { height: 23px; vertical-align: middle; position: relative; z-index: 1; } .codeSnippetContainerTab { padding: 0px 15px; width: auto; height: 22px; color: #2a2a2a; font-family: \"Segoe UI\" , \"Lucida Grande\" , Verdana, Arial, Helvetica, sans-serif !important; font-size: 12px; font-style: normal !important; vertical-align: baseline; float: left; } .codeSnippetContainerTabActive { background: #f8f8f8; padding: 0px 15px; width: auto; height: 22px; color: #000000; font-family: \"Segoe UI\" , \"Lucida Grande\" , Verdana, Arial, Helvetica, sans-serif !important; font-size: 12px; font-style: normal !important; vertical-align: baseline; border-top-color: #939393; border-right-color: #939393; border-left-color: #939393; border-top-width: 1px; border-right-width: 1px; border-left-width: 1px; border-top-style: solid; border-right-style: solid; border-left-style: solid; float: left; } .codeSnippetContainerTabPhantom { background: #f8f8f8; padding: 0px 15px; width: auto; height: 22px; color: #000000; font-family: \"Segoe UI\" , \"Lucida Grande\" , Verdana, Arial, Helvetica, sans-serif !important; font-size: 12px; font-style: normal !important; vertical-align: baseline; border-top-color: #939393; border-right-color: #939393; border-left-color: #939393; border-top-width: 1px; border-right-width: 1px; border-left-width: 1px; border-top-style: solid; border-right-style: solid; border-left-style: solid; float: left; display: none; } .codeSnippetContainerTabSingle { background: #f8f8f8; padding: 2px 15px 0px 15px; width: auto; height: 20px; color: #000000; font-family: \"Segoe UI\" , \"Lucida Grande\" , Verdana, Arial, Helvetica, sans-serif !important; font-size: 12px; font-weight: bold; font-style: normal !important; vertical-align: baseline; border-top-color: #939393; border-right-color: #939393; border-left-color: #939393; border-top-width: 1px; border-right-width: 1px; border-left-width: 1px; border-top-style: solid; border-right-style: solid; border-left-style: solid; float: left; } .codeSnippetContainerTab a { top: 2px; color: #000000; font-weight: bold; text-decoration: none; position: relative; } .codeSnippetContainerTab a:link { color: #000000; } .codeSnippetContainerTab a:hover { color: #136460; } .codeSnippetContainerTabActive a { top: 2px; color: #000000; font-weight: bold; text-decoration: none; position: relative; cursor: default; } .codeSnippetContainerTabActive a:link { color: #000000; } .codeSnippetContainerTabActive a:hover { color: #000000; } .codeSnippetContainerTabPhantom a { top: 2px; color: #000000; font-weight: bold; text-decoration: none; position: relative; cursor: default; } .codeSnippetContainerTabPhantom a:link { color: #000000; } .codeSnippetContainerCodeContainer { border: 1px solid #939393; top: -1px; margin-bottom: 12px; position: relative; } .codeSnippetToolBar { width: auto; height: auto; } .codeSnippetToolBarText { top: -8px; width: auto; height: 0px; padding-right: 0px; padding-left: 0px; vertical-align: top; float: right; position: relative; } .codeSnippetToolBarText a { color: #1364c4; text-decoration: none; padding-left: 8px; padding-right: 8px; font-family: \"Segoe UI\" , \"Lucida Grande\" , Verdana, Arial, Helvetica, sans-serif !important; font-size: 10px; font-style: normal !important; text-decoration: none; margin-right: 10px; margin-left: 0px; background-color: #ffffff; } .codeSnippetToolBarText a:link { color: #1364c4; } .codeSnippetContainerCode { margin: 0px; padding: 10px; width: auto; } .codeSnippetContainerCode div { margin: 0px; padding: 0px; } .codeSnippetContainerCode pre { margin: 0px; padding: 5px; overflow: auto; font-family: Consolas, Courier, monospace !important; font-style: normal; font-weight: normal; -ms-word-wrap: normal; } .codeSnippetContainerCode .keyword { color: #0000ff; font-weight: normal; } .copyCodeSnippet { } /* Keyword and phrase styles */ span.code, span.command { font-family: Consolas, Courier, monospace; color: #000066; background-color: #f4f4f4; } span.ui { font-weight: bold; } span.math { font-style: italic; } span.input { font-weight: bold; } span.term { font-style: italic; } span.label { font-weight: bold; } span.foreignPhrase, span.phrase { font-style: italic; } span.placeholder { font-style: italic; } span.typeparameter { font-style: italic; } span.identifier { } span.keyword { font-weight: bold; } span.parameter { font-style: italic; } dt span.parameter { font-weight: normal; } span.literal, span.literalValue { color: #cc0000; } span.comment { color: #006633; } span.introStyle { color: #a9a9a9; } span.nolink { font-weight: bold; } /* Auto-outline styles */ ul.autoOutline { } li.outlineSectionEntry { } div.outlineSectionEntrySummary { } /* Media  styles */ div.mediaNear { text-align: left; margin-top: 1em; margin-bottom: 1em; } div.mediaFar { text-align: right; margin-top: 1em; margin-bottom: 1em; } div.mediaCenter { text-align: center; margin-top: 1em; margin-bottom: 1em; } span.captionLead { font-weight: bold; margin-right: .5em; } span.media img { vertical-align: top; } /* Glossary styles */ div.glossaryDiv { } div.glossaryLetterBar { } hr.glossaryRule { } h3.glossaryGroupHeading { color: #808080; } div.glossaryGroup { } dl.glossaryGroupList { margin: 0; color: Black; } dt.glossaryEntry { margin-left: 2em; } dd.glossaryEntry { margin-left: 2em; margin-bottom: 2em; } div.relatedEntry { margin-bottom: 4px; } /* Bibliography styles */ div.bibliographStyle { padding-top: 5px; } span.bibliographyNumber { } span.bibliographyAuthor { font-weight: bold; } span.bibliographyTitle { font-style: italic; } span.bibliographyPublisher { } sup.citation a:link a:visited a:active { text-decoration: none; } /* Placeholder for the Help 1 user data style class */ .userDataStyle { } .missing { color: #dc143c; font-size: 8.5pt; font-weight: bold; } </style>\n"
      ],
      "text/plain": [
       "<IPython.core.display.HTML object>"
      ]
     },
     "metadata": {},
     "output_type": "display_data"
    }
   ],
   "source": []
  },
  {
   "cell_type": "markdown",
   "metadata": {},
   "source": []
  },
  {
   "cell_type": "markdown",
   "metadata": {},
   "source": []
  },
  {
   "cell_type": "markdown",
   "metadata": {},
   "source": [
    "<hr>\n",
    "<h3>PIPoint.PlotValues Method</h3>"
   ]
  },
  {
   "cell_type": "code",
   "execution_count": 37,
   "metadata": {},
   "outputs": [
    {
     "name": "stdout",
     "output_type": "stream",
     "text": [
      "[69.125, 13.63163, 0.975068, 3.373119, 23.62705, 85.45801, 99.18903, 96.30454, 76.0009, 14.38861, 0.7723272, 3.778157, 24.18557, 85.7641, 98.44351, 98.14255, 81.86028, 70.80117, <OSIsoft.AF.Asset.AFEnumerationValue object at 0x000002C2F0EC29C8>]\n"
     ]
    }
   ],
   "source": [
    "plot_values = pipoint.PlotValues(\n",
    "    AF.Time.AFTimeRange('*-1d','*'), 20)\n",
    "print([val.Value for val in plot_values])"
   ]
  },
  {
   "cell_type": "code",
   "execution_count": 34,
   "metadata": {},
   "outputs": [
    {
     "data": {
      "text/plain": [
       "'System'"
      ]
     },
     "execution_count": 34,
     "metadata": {},
     "output_type": "execute_result"
    }
   ],
   "source": [
    "[val.Value for val in plot_values][3].EnumerationSet.Name"
   ]
  }
 ],
 "metadata": {
  "kernelspec": {
   "display_name": "Python 3",
   "language": "python",
   "name": "python3"
  },
  "language_info": {
   "codemirror_mode": {
    "name": "ipython",
    "version": 3
   },
   "file_extension": ".py",
   "mimetype": "text/x-python",
   "name": "python",
   "nbconvert_exporter": "python",
   "pygments_lexer": "ipython3",
   "version": "3.7.6"
  }
 },
 "nbformat": 4,
 "nbformat_minor": 4
}
